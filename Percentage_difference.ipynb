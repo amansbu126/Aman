{
  "nbformat": 4,
  "nbformat_minor": 0,
  "metadata": {
    "colab": {
      "provenance": [],
      "authorship_tag": "ABX9TyPPPfcjex+O01kkE89jXn6L",
      "include_colab_link": true
    },
    "kernelspec": {
      "name": "python3",
      "display_name": "Python 3"
    },
    "language_info": {
      "name": "python"
    }
  },
  "cells": [
    {
      "cell_type": "markdown",
      "metadata": {
        "id": "view-in-github",
        "colab_type": "text"
      },
      "source": [
        "<a href=\"https://colab.research.google.com/github/amansbu126/Aman/blob/main/Percentage_difference.ipynb\" target=\"_parent\"><img src=\"https://colab.research.google.com/assets/colab-badge.svg\" alt=\"Open In Colab\"/></a>"
      ]
    },
    {
      "cell_type": "code",
      "execution_count": null,
      "metadata": {
        "id": "2ad-fHBSnJlf"
      },
      "outputs": [],
      "source": [
        "import pandas\n",
        "\n",
        "#Connect to the cluster\n",
        "import redshift_connector\n",
        "conn_dev = redshift_connector.connect(\n",
        "    host='host',\n",
        "    port=port,\n",
        "    database='db_name',\n",
        "    user='user_name',\n",
        "    password='password'\n",
        ")\n",
        "\n",
        "conn_prod = redshift_connector.connect(\n",
        "    host='host',\n",
        "    port=port,\n",
        "    database='db_name',\n",
        "    user='user_name',\n",
        "    password='password'\n",
        ")\n",
        "\n",
        "# Query to calculate aggregate\n",
        "\n",
        "dev_query = \"select count(campaign_name) as campaign,sum(spend) as spend,sum(impressions) as impressions,sum(clicks) as clicks from table_dev\"\n",
        "\n",
        "prod_query = \"select count(campaign) as campaign,sum(spend) as spend,sum(impressions) as impressions,sum(clicks) as clicks from table_prod\"\n",
        "# Create a Cursor object\n",
        "cursor_dev = conn_dev.cursor()\n",
        "cursor_prod = conn_prod.cursor()\n",
        "\n",
        "# Query and receive result set\n",
        "cursor_dev.execute(dev_query)\n",
        "\n",
        "cursor_prod.execute(prod_query)\n",
        "\n",
        "result_dev: pandas.DataFrame = cursor_dev.fetch_dataframe()\n",
        "\n",
        "result_prod: pandas.DataFrame = cursor_prod.fetch_dataframe()"
      ]
    },
    {
      "cell_type": "code",
      "source": [
        "def calculate_percentage_difference(df_a,df_b):\n",
        "    if df_a.shape != df_b.shape:\n",
        "        raise ValueError(\"Both tables must have same shape.\")\n",
        "\n",
        "    percentage_diff = ((df_b - df_a) / df_a) * 100\n",
        "\n",
        "    #format the values to display as percentages\n",
        "    formatted_diff = percentage_diff.apply(lambda col: col.map(lambda x: f\"{x:.2f}%\"))\n",
        "    return formatted_diff"
      ],
      "metadata": {
        "id": "nGabjI7Lnt9N"
      },
      "execution_count": null,
      "outputs": []
    },
    {
      "cell_type": "code",
      "source": [
        "percentage_difference = calculate_percentage_difference(result_dev,result_prod)\n",
        "\n",
        "print(\"Percentage differnce between table_A and table_B\")\n",
        "print(percentage_difference)"
      ],
      "metadata": {
        "id": "OO5JYXIcn3tA"
      },
      "execution_count": null,
      "outputs": []
    }
  ]
}